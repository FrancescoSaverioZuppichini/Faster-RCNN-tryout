{
 "cells": [
  {
   "cell_type": "code",
   "execution_count": 1,
   "metadata": {},
   "outputs": [],
   "source": [
    "%load_ext autoreload\n",
    "%autoreload 2\n",
    "%matplotlib notebook"
   ]
  },
  {
   "cell_type": "markdown",
   "metadata": {},
   "source": [
    "### This is a playground!\n",
    "\n",
    "Here you can quickly test some code, visualize your data"
   ]
  },
  {
   "cell_type": "code",
   "execution_count": 2,
   "metadata": {},
   "outputs": [],
   "source": [
    "from Project import Project\n",
    "from data.DetectionDataset import DetectionDataset"
   ]
  },
  {
   "cell_type": "code",
   "execution_count": 3,
   "metadata": {},
   "outputs": [],
   "source": [
    "import torch\n",
    "from torchvision.transforms import ToTensor\n",
    "\n",
    "pr = Project()\n",
    "\n",
    "yoda_dir = pr.data_dir / 'yoda'\n",
    "\n",
    "annotations_path = list(yoda_dir.glob('*.txt'))\n",
    "images_path = list(yoda_dir.glob('*.jpg'))\n",
    "\n",
    "class ImgBBoxsTr():\n",
    "    def __init__(self):\n",
    "        self.to_tensor = ToTensor()\n",
    "        \n",
    "    def __call__(self, x, bboxs):\n",
    "        return self.to_tensor(x), torch.Tensor(bboxs).long()"
   ]
  },
  {
   "cell_type": "code",
   "execution_count": null,
   "metadata": {},
   "outputs": [],
   "source": [
    "ds = DetectionDataset(images_path, annotations_path, transform=ImgBBoxsTr())\n",
    "\n",
    "ds[0]"
   ]
  },
  {
   "cell_type": "code",
   "execution_count": 5,
   "metadata": {},
   "outputs": [
    {
     "data": {
      "text/plain": [
       "tensor([21, 21, 70, 72, 29, 18, 20, 84, 10, 24, 80])"
      ]
     },
     "execution_count": 5,
     "metadata": {},
     "output_type": "execute_result"
    }
   ],
   "source": [
    "images, boxes = torch.rand(4, 3, 600, 1200), torch.rand(4, 11, 4)\n",
    "labels = torch.randint(1, 91, (4, 11))\n",
    "images = list(image for image in images)\n",
    "targets = []\n",
    "for i in range(len(images)):\n",
    "    d = {}\n",
    "    d['boxes'] = boxes[i]\n",
    "    d['labels'] = labels[i]\n",
    "    targets.append(d)\n",
    "targets[0]['labels'].long()"
   ]
  },
  {
   "cell_type": "markdown",
   "metadata": {},
   "source": [
    "## Model"
   ]
  },
  {
   "cell_type": "code",
   "execution_count": 6,
   "metadata": {},
   "outputs": [
    {
     "name": "stdout",
     "output_type": "stream",
     "text": [
      "Object `fasterrcnn_resnet50_fpn` not found.\n"
     ]
    }
   ],
   "source": [
    "??fasterrcnn_resnet50_fpn"
   ]
  },
  {
   "cell_type": "code",
   "execution_count": 7,
   "metadata": {},
   "outputs": [],
   "source": [
    "from torchvision.models.detection.faster_rcnn  import fasterrcnn_resnet50_fpn\n"
   ]
  },
  {
   "cell_type": "code",
   "execution_count": 8,
   "metadata": {},
   "outputs": [
    {
     "data": {
      "text/plain": [
       "(tensor([[[0.0588, 0.0588, 0.0588,  ..., 0.2745, 0.3020, 0.3098],\n",
       "          [0.0588, 0.0588, 0.0588,  ..., 0.2745, 0.3020, 0.3098],\n",
       "          [0.0588, 0.0588, 0.0588,  ..., 0.2706, 0.2980, 0.3137],\n",
       "          ...,\n",
       "          [0.0510, 0.0510, 0.0510,  ..., 0.1569, 0.1569, 0.1569],\n",
       "          [0.0510, 0.0510, 0.0510,  ..., 0.1569, 0.1569, 0.1569],\n",
       "          [0.0510, 0.0510, 0.0510,  ..., 0.1569, 0.1569, 0.1569]],\n",
       " \n",
       "         [[0.0431, 0.0431, 0.0431,  ..., 0.2392, 0.2667, 0.2745],\n",
       "          [0.0431, 0.0431, 0.0431,  ..., 0.2392, 0.2667, 0.2745],\n",
       "          [0.0431, 0.0431, 0.0431,  ..., 0.2353, 0.2627, 0.2784],\n",
       "          ...,\n",
       "          [0.0353, 0.0353, 0.0353,  ..., 0.1176, 0.1176, 0.1176],\n",
       "          [0.0353, 0.0353, 0.0353,  ..., 0.1176, 0.1176, 0.1176],\n",
       "          [0.0353, 0.0353, 0.0353,  ..., 0.1176, 0.1176, 0.1176]],\n",
       " \n",
       "         [[0.0471, 0.0471, 0.0471,  ..., 0.2196, 0.2471, 0.2549],\n",
       "          [0.0471, 0.0471, 0.0471,  ..., 0.2196, 0.2471, 0.2549],\n",
       "          [0.0471, 0.0471, 0.0471,  ..., 0.2157, 0.2431, 0.2588],\n",
       "          ...,\n",
       "          [0.0392, 0.0392, 0.0392,  ..., 0.1137, 0.1137, 0.1137],\n",
       "          [0.0392, 0.0392, 0.0392,  ..., 0.1137, 0.1137, 0.1137],\n",
       "          [0.0392, 0.0392, 0.0392,  ..., 0.1137, 0.1137, 0.1137]]]),\n",
       " {'boxes': tensor([[0, 0, 0, 0]]), 'labels': tensor([0])})"
      ]
     },
     "execution_count": 8,
     "metadata": {},
     "output_type": "execute_result"
    }
   ],
   "source": [
    "ds[0]"
   ]
  },
  {
   "cell_type": "code",
   "execution_count": 9,
   "metadata": {
    "scrolled": false
   },
   "outputs": [
    {
     "data": {
      "text/plain": [
       "{'loss_classifier': tensor(4.5318, grad_fn=<NllLossBackward>),\n",
       " 'loss_box_reg': tensor(0., grad_fn=<DivBackward0>),\n",
       " 'loss_objectness': tensor(0.6928, grad_fn=<BinaryCrossEntropyWithLogitsBackward>),\n",
       " 'loss_rpn_box_reg': tensor(inf, grad_fn=<DivBackward0>)}"
      ]
     },
     "execution_count": 9,
     "metadata": {},
     "output_type": "execute_result"
    }
   ],
   "source": [
    "model = fasterrcnn_resnet50_fpn()\n",
    "\n",
    "model([ds[0][0]], [ds[0][1]])"
   ]
  },
  {
   "cell_type": "code",
   "execution_count": 12,
   "metadata": {},
   "outputs": [],
   "source": [
    "??fasterrcnn_resnet50_fpn"
   ]
  },
  {
   "cell_type": "code",
   "execution_count": 11,
   "metadata": {},
   "outputs": [
    {
     "ename": "NameError",
     "evalue": "name 'show_dataset' is not defined",
     "output_type": "error",
     "traceback": [
      "\u001b[1;31m---------------------------------------------------------------------------\u001b[0m",
      "\u001b[1;31mNameError\u001b[0m                                 Traceback (most recent call last)",
      "\u001b[1;32m<ipython-input-11-c76a72f85b57>\u001b[0m in \u001b[0;36m<module>\u001b[1;34m\u001b[0m\n\u001b[1;32m----> 1\u001b[1;33m \u001b[0mshow_dataset\u001b[0m\u001b[1;33m(\u001b[0m\u001b[0mds\u001b[0m\u001b[1;33m,\u001b[0m \u001b[0mn\u001b[0m\u001b[1;33m=\u001b[0m\u001b[1;36m2\u001b[0m\u001b[1;33m)\u001b[0m\u001b[1;33m\u001b[0m\u001b[1;33m\u001b[0m\u001b[0m\n\u001b[0m",
      "\u001b[1;31mNameError\u001b[0m: name 'show_dataset' is not defined"
     ]
    }
   ],
   "source": [
    "show_dataset(ds, n=2)"
   ]
  },
  {
   "cell_type": "code",
   "execution_count": null,
   "metadata": {},
   "outputs": [],
   "source": [
    "import matplotlib.pyplot as plt\n",
    "\n",
    "plt.rcParams[\"figure.figsize\"] = (10,10)\n",
    "\n",
    "show_dataset(ds, n=len(ds))"
   ]
  }
 ],
 "metadata": {
  "kernelspec": {
   "display_name": "Python 3",
   "language": "python",
   "name": "python3"
  },
  "language_info": {
   "codemirror_mode": {
    "name": "ipython",
    "version": 3
   },
   "file_extension": ".py",
   "mimetype": "text/x-python",
   "name": "python",
   "nbconvert_exporter": "python",
   "pygments_lexer": "ipython3",
   "version": "3.7.6"
  }
 },
 "nbformat": 4,
 "nbformat_minor": 2
}
